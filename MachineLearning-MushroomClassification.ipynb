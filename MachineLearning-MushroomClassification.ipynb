{
 "cells": [
  {
   "cell_type": "markdown",
   "metadata": {},
   "source": [
    "<h1>Mushroom Classification</h1>\n",
    "<i>Note: This data set was obtained from archive.ics.uci.edu and is titled \"mushroom\"</i>\n",
    "\n",
    "_______________________________________________________________________"
   ]
  },
  {
   "cell_type": "markdown",
   "metadata": {},
   "source": [
    "\n",
    "<b>Goal:</b> predict if a mushroom is edible or poisonous based on the mushroom's attributes.\n",
    "_______________________________________________________________________"
   ]
  },
  {
   "cell_type": "markdown",
   "metadata": {},
   "source": [
    "First, get the data"
   ]
  },
  {
   "cell_type": "code",
   "execution_count": 16,
   "metadata": {},
   "outputs": [],
   "source": [
    "import os\n",
    "import pandas as pd\n",
    "\n",
    "# Folder path to mushroom data file\n",
    "MUSHROOM_PATH = \"\"\n",
    "\n",
    "def load_mushroom_data(mushroom_path=MUSHROOM_PATH):\n",
    "    csv_path = os.path.join(mushroom_path, \"agaricus-lepiota.csv\")\n",
    "    return pd.read_csv(csv_path)"
   ]
  },
  {
   "cell_type": "markdown",
   "metadata": {},
   "source": [
    "Examine the data"
   ]
  },
  {
   "cell_type": "code",
   "execution_count": 17,
   "metadata": {},
   "outputs": [
    {
     "data": {
      "text/html": [
       "<div>\n",
       "<style scoped>\n",
       "    .dataframe tbody tr th:only-of-type {\n",
       "        vertical-align: middle;\n",
       "    }\n",
       "\n",
       "    .dataframe tbody tr th {\n",
       "        vertical-align: top;\n",
       "    }\n",
       "\n",
       "    .dataframe thead th {\n",
       "        text-align: right;\n",
       "    }\n",
       "</style>\n",
       "<table border=\"1\" class=\"dataframe\">\n",
       "  <thead>\n",
       "    <tr style=\"text-align: right;\">\n",
       "      <th></th>\n",
       "      <th>consumption</th>\n",
       "      <th>cap-shape</th>\n",
       "      <th>cap-surface</th>\n",
       "      <th>cap-color</th>\n",
       "      <th>bruises?</th>\n",
       "      <th>odor</th>\n",
       "      <th>gill-attachment</th>\n",
       "      <th>gill-spacing</th>\n",
       "      <th>gill-size</th>\n",
       "      <th>gill-color</th>\n",
       "      <th>...</th>\n",
       "      <th>stalk-surface-below-ring</th>\n",
       "      <th>stalk-color-above-ring</th>\n",
       "      <th>stalk-color-below-ring</th>\n",
       "      <th>veil-type</th>\n",
       "      <th>veil-color</th>\n",
       "      <th>ring-number</th>\n",
       "      <th>ring-type</th>\n",
       "      <th>spore-print-color</th>\n",
       "      <th>population</th>\n",
       "      <th>habitat</th>\n",
       "    </tr>\n",
       "  </thead>\n",
       "  <tbody>\n",
       "    <tr>\n",
       "      <th>0</th>\n",
       "      <td>EDIBLE</td>\n",
       "      <td>CONVEX</td>\n",
       "      <td>SMOOTH</td>\n",
       "      <td>WHITE</td>\n",
       "      <td>BRUISES</td>\n",
       "      <td>ALMOND</td>\n",
       "      <td>FREE</td>\n",
       "      <td>CROWDED</td>\n",
       "      <td>NARROW</td>\n",
       "      <td>WHITE</td>\n",
       "      <td>...</td>\n",
       "      <td>SMOOTH</td>\n",
       "      <td>WHITE</td>\n",
       "      <td>WHITE</td>\n",
       "      <td>PARTIAL</td>\n",
       "      <td>WHITE</td>\n",
       "      <td>ONE</td>\n",
       "      <td>PENDANT</td>\n",
       "      <td>PURPLE</td>\n",
       "      <td>SEVERAL</td>\n",
       "      <td>WOODS</td>\n",
       "    </tr>\n",
       "    <tr>\n",
       "      <th>1</th>\n",
       "      <td>EDIBLE</td>\n",
       "      <td>CONVEX</td>\n",
       "      <td>SMOOTH</td>\n",
       "      <td>WHITE</td>\n",
       "      <td>BRUISES</td>\n",
       "      <td>ALMOND</td>\n",
       "      <td>FREE</td>\n",
       "      <td>CROWDED</td>\n",
       "      <td>NARROW</td>\n",
       "      <td>WHITE</td>\n",
       "      <td>...</td>\n",
       "      <td>SMOOTH</td>\n",
       "      <td>WHITE</td>\n",
       "      <td>WHITE</td>\n",
       "      <td>PARTIAL</td>\n",
       "      <td>WHITE</td>\n",
       "      <td>ONE</td>\n",
       "      <td>PENDANT</td>\n",
       "      <td>BROWN</td>\n",
       "      <td>SEVERAL</td>\n",
       "      <td>WOODS</td>\n",
       "    </tr>\n",
       "    <tr>\n",
       "      <th>2</th>\n",
       "      <td>EDIBLE</td>\n",
       "      <td>CONVEX</td>\n",
       "      <td>SMOOTH</td>\n",
       "      <td>WHITE</td>\n",
       "      <td>BRUISES</td>\n",
       "      <td>ALMOND</td>\n",
       "      <td>FREE</td>\n",
       "      <td>CROWDED</td>\n",
       "      <td>NARROW</td>\n",
       "      <td>PINK</td>\n",
       "      <td>...</td>\n",
       "      <td>SMOOTH</td>\n",
       "      <td>WHITE</td>\n",
       "      <td>WHITE</td>\n",
       "      <td>PARTIAL</td>\n",
       "      <td>WHITE</td>\n",
       "      <td>ONE</td>\n",
       "      <td>PENDANT</td>\n",
       "      <td>PURPLE</td>\n",
       "      <td>SEVERAL</td>\n",
       "      <td>WOODS</td>\n",
       "    </tr>\n",
       "    <tr>\n",
       "      <th>3</th>\n",
       "      <td>EDIBLE</td>\n",
       "      <td>CONVEX</td>\n",
       "      <td>SMOOTH</td>\n",
       "      <td>WHITE</td>\n",
       "      <td>BRUISES</td>\n",
       "      <td>ALMOND</td>\n",
       "      <td>FREE</td>\n",
       "      <td>CROWDED</td>\n",
       "      <td>NARROW</td>\n",
       "      <td>PINK</td>\n",
       "      <td>...</td>\n",
       "      <td>SMOOTH</td>\n",
       "      <td>WHITE</td>\n",
       "      <td>WHITE</td>\n",
       "      <td>PARTIAL</td>\n",
       "      <td>WHITE</td>\n",
       "      <td>ONE</td>\n",
       "      <td>PENDANT</td>\n",
       "      <td>BROWN</td>\n",
       "      <td>SEVERAL</td>\n",
       "      <td>WOODS</td>\n",
       "    </tr>\n",
       "    <tr>\n",
       "      <th>4</th>\n",
       "      <td>EDIBLE</td>\n",
       "      <td>CONVEX</td>\n",
       "      <td>SMOOTH</td>\n",
       "      <td>WHITE</td>\n",
       "      <td>BRUISES</td>\n",
       "      <td>ALMOND</td>\n",
       "      <td>FREE</td>\n",
       "      <td>CROWDED</td>\n",
       "      <td>NARROW</td>\n",
       "      <td>BROWN</td>\n",
       "      <td>...</td>\n",
       "      <td>SMOOTH</td>\n",
       "      <td>WHITE</td>\n",
       "      <td>WHITE</td>\n",
       "      <td>PARTIAL</td>\n",
       "      <td>WHITE</td>\n",
       "      <td>ONE</td>\n",
       "      <td>PENDANT</td>\n",
       "      <td>PURPLE</td>\n",
       "      <td>SEVERAL</td>\n",
       "      <td>WOODS</td>\n",
       "    </tr>\n",
       "  </tbody>\n",
       "</table>\n",
       "<p>5 rows × 23 columns</p>\n",
       "</div>"
      ],
      "text/plain": [
       "  consumption cap-shape cap-surface cap-color bruises?    odor  \\\n",
       "0      EDIBLE    CONVEX      SMOOTH     WHITE  BRUISES  ALMOND   \n",
       "1      EDIBLE    CONVEX      SMOOTH     WHITE  BRUISES  ALMOND   \n",
       "2      EDIBLE    CONVEX      SMOOTH     WHITE  BRUISES  ALMOND   \n",
       "3      EDIBLE    CONVEX      SMOOTH     WHITE  BRUISES  ALMOND   \n",
       "4      EDIBLE    CONVEX      SMOOTH     WHITE  BRUISES  ALMOND   \n",
       "\n",
       "  gill-attachment gill-spacing gill-size gill-color  ...  \\\n",
       "0            FREE      CROWDED    NARROW      WHITE  ...   \n",
       "1            FREE      CROWDED    NARROW      WHITE  ...   \n",
       "2            FREE      CROWDED    NARROW       PINK  ...   \n",
       "3            FREE      CROWDED    NARROW       PINK  ...   \n",
       "4            FREE      CROWDED    NARROW      BROWN  ...   \n",
       "\n",
       "  stalk-surface-below-ring stalk-color-above-ring stalk-color-below-ring  \\\n",
       "0                   SMOOTH                  WHITE                  WHITE   \n",
       "1                   SMOOTH                  WHITE                  WHITE   \n",
       "2                   SMOOTH                  WHITE                  WHITE   \n",
       "3                   SMOOTH                  WHITE                  WHITE   \n",
       "4                   SMOOTH                  WHITE                  WHITE   \n",
       "\n",
       "  veil-type veil-color ring-number ring-type spore-print-color population  \\\n",
       "0   PARTIAL      WHITE         ONE   PENDANT            PURPLE    SEVERAL   \n",
       "1   PARTIAL      WHITE         ONE   PENDANT             BROWN    SEVERAL   \n",
       "2   PARTIAL      WHITE         ONE   PENDANT            PURPLE    SEVERAL   \n",
       "3   PARTIAL      WHITE         ONE   PENDANT             BROWN    SEVERAL   \n",
       "4   PARTIAL      WHITE         ONE   PENDANT            PURPLE    SEVERAL   \n",
       "\n",
       "  habitat  \n",
       "0   WOODS  \n",
       "1   WOODS  \n",
       "2   WOODS  \n",
       "3   WOODS  \n",
       "4   WOODS  \n",
       "\n",
       "[5 rows x 23 columns]"
      ]
     },
     "execution_count": 17,
     "metadata": {},
     "output_type": "execute_result"
    }
   ],
   "source": [
    "mushroom_full = load_mushroom_data()\n",
    "mushroom_full.head()"
   ]
  },
  {
   "cell_type": "code",
   "execution_count": 18,
   "metadata": {
    "scrolled": true
   },
   "outputs": [
    {
     "name": "stdout",
     "output_type": "stream",
     "text": [
      "<class 'pandas.core.frame.DataFrame'>\n",
      "RangeIndex: 8416 entries, 0 to 8415\n",
      "Data columns (total 23 columns):\n",
      " #   Column                    Non-Null Count  Dtype \n",
      "---  ------                    --------------  ----- \n",
      " 0   consumption               8416 non-null   object\n",
      " 1   cap-shape                 8416 non-null   object\n",
      " 2   cap-surface               8416 non-null   object\n",
      " 3   cap-color                 8416 non-null   object\n",
      " 4   bruises?                  8416 non-null   object\n",
      " 5   odor                      8416 non-null   object\n",
      " 6   gill-attachment           8416 non-null   object\n",
      " 7   gill-spacing              8416 non-null   object\n",
      " 8   gill-size                 8416 non-null   object\n",
      " 9   gill-color                8416 non-null   object\n",
      " 10  stalk-shape               8416 non-null   object\n",
      " 11  stalk-root                8416 non-null   object\n",
      " 12  stalk-surface-above-ring  8416 non-null   object\n",
      " 13  stalk-surface-below-ring  8416 non-null   object\n",
      " 14  stalk-color-above-ring    8416 non-null   object\n",
      " 15  stalk-color-below-ring    8416 non-null   object\n",
      " 16  veil-type                 8416 non-null   object\n",
      " 17  veil-color                8416 non-null   object\n",
      " 18  ring-number               8416 non-null   object\n",
      " 19  ring-type                 8416 non-null   object\n",
      " 20  spore-print-color         8416 non-null   object\n",
      " 21  population                8416 non-null   object\n",
      " 22  habitat                   8416 non-null   object\n",
      "dtypes: object(23)\n",
      "memory usage: 1.5+ MB\n"
     ]
    }
   ],
   "source": [
    "mushroom_full.info()"
   ]
  },
  {
   "cell_type": "code",
   "execution_count": 19,
   "metadata": {},
   "outputs": [
    {
     "data": {
      "text/html": [
       "<div>\n",
       "<style scoped>\n",
       "    .dataframe tbody tr th:only-of-type {\n",
       "        vertical-align: middle;\n",
       "    }\n",
       "\n",
       "    .dataframe tbody tr th {\n",
       "        vertical-align: top;\n",
       "    }\n",
       "\n",
       "    .dataframe thead th {\n",
       "        text-align: right;\n",
       "    }\n",
       "</style>\n",
       "<table border=\"1\" class=\"dataframe\">\n",
       "  <thead>\n",
       "    <tr style=\"text-align: right;\">\n",
       "      <th></th>\n",
       "      <th>consumption</th>\n",
       "      <th>cap-shape</th>\n",
       "      <th>cap-surface</th>\n",
       "      <th>cap-color</th>\n",
       "      <th>bruises?</th>\n",
       "      <th>odor</th>\n",
       "      <th>gill-attachment</th>\n",
       "      <th>gill-spacing</th>\n",
       "      <th>gill-size</th>\n",
       "      <th>gill-color</th>\n",
       "      <th>...</th>\n",
       "      <th>stalk-surface-below-ring</th>\n",
       "      <th>stalk-color-above-ring</th>\n",
       "      <th>stalk-color-below-ring</th>\n",
       "      <th>veil-type</th>\n",
       "      <th>veil-color</th>\n",
       "      <th>ring-number</th>\n",
       "      <th>ring-type</th>\n",
       "      <th>spore-print-color</th>\n",
       "      <th>population</th>\n",
       "      <th>habitat</th>\n",
       "    </tr>\n",
       "  </thead>\n",
       "  <tbody>\n",
       "    <tr>\n",
       "      <th>count</th>\n",
       "      <td>8416</td>\n",
       "      <td>8416</td>\n",
       "      <td>8416</td>\n",
       "      <td>8416</td>\n",
       "      <td>8416</td>\n",
       "      <td>8416</td>\n",
       "      <td>8416</td>\n",
       "      <td>8416</td>\n",
       "      <td>8416</td>\n",
       "      <td>8416</td>\n",
       "      <td>...</td>\n",
       "      <td>8416</td>\n",
       "      <td>8416</td>\n",
       "      <td>8416</td>\n",
       "      <td>8416</td>\n",
       "      <td>8416</td>\n",
       "      <td>8416</td>\n",
       "      <td>8416</td>\n",
       "      <td>8416</td>\n",
       "      <td>8416</td>\n",
       "      <td>8416</td>\n",
       "    </tr>\n",
       "    <tr>\n",
       "      <th>unique</th>\n",
       "      <td>2</td>\n",
       "      <td>6</td>\n",
       "      <td>4</td>\n",
       "      <td>10</td>\n",
       "      <td>2</td>\n",
       "      <td>9</td>\n",
       "      <td>2</td>\n",
       "      <td>2</td>\n",
       "      <td>2</td>\n",
       "      <td>12</td>\n",
       "      <td>...</td>\n",
       "      <td>4</td>\n",
       "      <td>9</td>\n",
       "      <td>9</td>\n",
       "      <td>1</td>\n",
       "      <td>4</td>\n",
       "      <td>3</td>\n",
       "      <td>5</td>\n",
       "      <td>9</td>\n",
       "      <td>6</td>\n",
       "      <td>7</td>\n",
       "    </tr>\n",
       "    <tr>\n",
       "      <th>top</th>\n",
       "      <td>EDIBLE</td>\n",
       "      <td>CONVEX</td>\n",
       "      <td>SCALY</td>\n",
       "      <td>BROWN</td>\n",
       "      <td>NO</td>\n",
       "      <td>NONE</td>\n",
       "      <td>FREE</td>\n",
       "      <td>CLOSE</td>\n",
       "      <td>BROAD</td>\n",
       "      <td>BUFF</td>\n",
       "      <td>...</td>\n",
       "      <td>SMOOTH</td>\n",
       "      <td>WHITE</td>\n",
       "      <td>WHITE</td>\n",
       "      <td>PARTIAL</td>\n",
       "      <td>WHITE</td>\n",
       "      <td>ONE</td>\n",
       "      <td>PENDANT</td>\n",
       "      <td>WHITE</td>\n",
       "      <td>SEVERAL</td>\n",
       "      <td>WOODS</td>\n",
       "    </tr>\n",
       "    <tr>\n",
       "      <th>freq</th>\n",
       "      <td>4488</td>\n",
       "      <td>3796</td>\n",
       "      <td>3268</td>\n",
       "      <td>2320</td>\n",
       "      <td>5040</td>\n",
       "      <td>3808</td>\n",
       "      <td>8200</td>\n",
       "      <td>6824</td>\n",
       "      <td>5880</td>\n",
       "      <td>1728</td>\n",
       "      <td>...</td>\n",
       "      <td>5076</td>\n",
       "      <td>4744</td>\n",
       "      <td>4640</td>\n",
       "      <td>8416</td>\n",
       "      <td>8216</td>\n",
       "      <td>7768</td>\n",
       "      <td>3968</td>\n",
       "      <td>2424</td>\n",
       "      <td>4064</td>\n",
       "      <td>3160</td>\n",
       "    </tr>\n",
       "  </tbody>\n",
       "</table>\n",
       "<p>4 rows × 23 columns</p>\n",
       "</div>"
      ],
      "text/plain": [
       "       consumption cap-shape cap-surface cap-color bruises?  odor  \\\n",
       "count         8416      8416        8416      8416     8416  8416   \n",
       "unique           2         6           4        10        2     9   \n",
       "top         EDIBLE    CONVEX       SCALY     BROWN       NO  NONE   \n",
       "freq          4488      3796        3268      2320     5040  3808   \n",
       "\n",
       "       gill-attachment gill-spacing gill-size gill-color  ...  \\\n",
       "count             8416         8416      8416       8416  ...   \n",
       "unique               2            2         2         12  ...   \n",
       "top               FREE        CLOSE     BROAD       BUFF  ...   \n",
       "freq              8200         6824      5880       1728  ...   \n",
       "\n",
       "       stalk-surface-below-ring stalk-color-above-ring stalk-color-below-ring  \\\n",
       "count                      8416                   8416                   8416   \n",
       "unique                        4                      9                      9   \n",
       "top                      SMOOTH                  WHITE                  WHITE   \n",
       "freq                       5076                   4744                   4640   \n",
       "\n",
       "       veil-type veil-color ring-number ring-type spore-print-color  \\\n",
       "count       8416       8416        8416      8416              8416   \n",
       "unique         1          4           3         5                 9   \n",
       "top      PARTIAL      WHITE         ONE   PENDANT             WHITE   \n",
       "freq        8416       8216        7768      3968              2424   \n",
       "\n",
       "       population habitat  \n",
       "count        8416    8416  \n",
       "unique          6       7  \n",
       "top       SEVERAL   WOODS  \n",
       "freq         4064    3160  \n",
       "\n",
       "[4 rows x 23 columns]"
      ]
     },
     "execution_count": 19,
     "metadata": {},
     "output_type": "execute_result"
    }
   ],
   "source": [
    "mushroom_full.describe()"
   ]
  },
  {
   "cell_type": "markdown",
   "metadata": {},
   "source": [
    "For later, let's take a peak at all the attributes so we can see if and where the '?' values are"
   ]
  },
  {
   "cell_type": "code",
   "execution_count": 20,
   "metadata": {},
   "outputs": [
    {
     "name": "stdout",
     "output_type": "stream",
     "text": [
      "EDIBLE       4488\n",
      "POISONOUS    3928\n",
      "Name: consumption, dtype: int64\n",
      "CONVEX     3796\n",
      "FLAT       3292\n",
      "KNOBBED     840\n",
      "BELL        452\n",
      "SUNKEN       32\n",
      "CONICAL       4\n",
      "Name: cap-shape, dtype: int64\n",
      "SCALY      3268\n",
      "SMOOTH     2684\n",
      "FIBROUS    2460\n",
      "GROOVES       4\n",
      "Name: cap-surface, dtype: int64\n",
      "BROWN       2320\n",
      "GRAY        2096\n",
      "RED         1500\n",
      "YELLOW      1072\n",
      "WHITE       1040\n",
      "BUFF         168\n",
      "PINK         144\n",
      "CINNAMON      44\n",
      "GREEN         16\n",
      "PURPLE        16\n",
      "Name: cap-color, dtype: int64\n",
      "NO         5040\n",
      "BRUISES    3376\n",
      "Name: bruises?, dtype: int64\n",
      "NONE        3808\n",
      "FOUL        2160\n",
      "FISHY        576\n",
      "SPICY        576\n",
      "ANISE        400\n",
      "ALMOND       400\n",
      "PUNGENT      256\n",
      "CREOSOTE     192\n",
      "MUSTY         48\n",
      "Name: odor, dtype: int64\n",
      "FREE        8200\n",
      "ATTACHED     216\n",
      "Name: gill-attachment, dtype: int64\n",
      "CLOSE      6824\n",
      "CROWDED    1592\n",
      "Name: gill-spacing, dtype: int64\n",
      "BROAD     5880\n",
      "NARROW    2536\n",
      "Name: gill-size, dtype: int64\n",
      "BUFF         1728\n",
      "PINK         1556\n",
      "WHITE        1232\n",
      "BROWN        1112\n",
      "CHOCOLATE     796\n",
      "GRAY          752\n",
      "PURPLE        492\n",
      "BLACK         472\n",
      "RED            96\n",
      "YELLOW         92\n",
      "ORANGE         64\n",
      "GREEN          24\n",
      "Name: gill-color, dtype: int64\n",
      "TAPERING     4864\n",
      "ENLARGING    3552\n",
      "Name: stalk-shape, dtype: int64\n",
      "BULBOUS    3800\n",
      "?          2480\n",
      "EQUAL      1376\n",
      "CLUB        568\n",
      "ROOTED      192\n",
      "Name: stalk-root, dtype: int64\n",
      "SMOOTH     5316\n",
      "SILKY      2384\n",
      "FIBROUS     692\n",
      "SCALY        24\n",
      "Name: stalk-surface-above-ring, dtype: int64\n",
      "SMOOTH     5076\n",
      "SILKY      2304\n",
      "FIBROUS     740\n",
      "SCALY       296\n",
      "Name: stalk-surface-below-ring, dtype: int64\n",
      "WHITE       4744\n",
      "PINK        1872\n",
      "GRAY         576\n",
      "BROWN        448\n",
      "BUFF         432\n",
      "ORANGE       192\n",
      "RED           96\n",
      "CINNAMON      48\n",
      "YELLOW         8\n",
      "Name: stalk-color-above-ring, dtype: int64\n",
      "WHITE       4640\n",
      "PINK        1872\n",
      "GRAY         576\n",
      "BROWN        536\n",
      "BUFF         432\n",
      "ORANGE       192\n",
      "RED           96\n",
      "CINNAMON      48\n",
      "YELLOW        24\n",
      "Name: stalk-color-below-ring, dtype: int64\n",
      "PARTIAL    8416\n",
      "Name: veil-type, dtype: int64\n",
      "WHITE     8216\n",
      "ORANGE      96\n",
      "BROWN       96\n",
      "YELLOW       8\n",
      "Name: veil-color, dtype: int64\n",
      "ONE     7768\n",
      "TWO      600\n",
      "NONE      48\n",
      "Name: ring-number, dtype: int64\n",
      "PENDANT       3968\n",
      "EVANESCENT    3056\n",
      "LARGE         1296\n",
      "NONE            48\n",
      "FLARING         48\n",
      "Name: ring-type, dtype: int64\n",
      "WHITE        2424\n",
      "BROWN        2096\n",
      "BLACK        2000\n",
      "CHOCOLATE    1632\n",
      "GREEN          72\n",
      "YELLOW         48\n",
      "ORANGE         48\n",
      "BUFF           48\n",
      "PURPLE         48\n",
      "Name: spore-print-color, dtype: int64\n",
      "SEVERAL      4064\n",
      "SOLITARY     1712\n",
      "SCATTERED    1376\n",
      "ABUNDANT      512\n",
      "NUMEROUS      400\n",
      "CLUSTERED     352\n",
      "Name: population, dtype: int64\n",
      "WOODS      3160\n",
      "GRASSES    2404\n",
      "PATHS      1144\n",
      "LEAVES      856\n",
      "URBAN       368\n",
      "MEADOWS     292\n",
      "WASTE       192\n",
      "Name: habitat, dtype: int64\n"
     ]
    }
   ],
   "source": [
    "for col in mushroom_full.columns:\n",
    "    print(mushroom_full[col].value_counts())"
   ]
  },
  {
   "cell_type": "markdown",
   "metadata": {},
   "source": [
    "Notice that <b>only</b> attribute that has a '?' is \"stalk-shape\".\n",
    "\n",
    "<i>Take note of this for later.</i>"
   ]
  },
  {
   "cell_type": "markdown",
   "metadata": {},
   "source": [
    "# Visualizations and Correlations"
   ]
  },
  {
   "cell_type": "markdown",
   "metadata": {},
   "source": [
    "Let's look at the correlation between the attributes and being poisonous or edible."
   ]
  },
  {
   "cell_type": "code",
   "execution_count": 21,
   "metadata": {},
   "outputs": [
    {
     "name": "stdout",
     "output_type": "stream",
     "text": [
      "                          consumption\n",
      "odor                         0.883252\n",
      "stalk-surface-above-ring     0.547118\n",
      "ring-type                    0.533758\n",
      "stalk-surface-below-ring     0.499321\n",
      "spore-print-color            0.496691\n",
      "bruises?                     0.462454\n",
      "gill-color                   0.442214\n",
      "gill-spacing                 0.383756\n",
      "habitat                      0.187146\n",
      "stalk-shape                  0.122572\n",
      "stalk-root                   0.115479\n",
      "cap-shape                    0.102253\n",
      "stalk-color-above-ring       0.101152\n",
      "stalk-color-below-ring       0.094249\n",
      "cap-color                    0.077899\n",
      "cap-surface                  0.020349\n",
      "gill-attachment             -0.115691\n",
      "ring-number                 -0.126453\n",
      "veil-color                  -0.137041\n",
      "population                  -0.388632\n",
      "gill-size                   -0.540032\n",
      "veil-type                         NaN\n"
     ]
    }
   ],
   "source": [
    "result = mushroom_full.apply(lambda x: pd.factorize(x)[0]).corr(method='pearson', min_periods=1)\n",
    "correlation_consumption = result[['consumption']].drop('consumption').sort_values(by='consumption', ascending=False)\n",
    "print(correlation_consumption)"
   ]
  },
  {
   "cell_type": "markdown",
   "metadata": {},
   "source": [
    "Notice that the 'veil-type' attribute had a \"Not a Number\" correlation. This is because the attribute is always the same. All 8140 of 8140 mushrooms had a veil-type of 'partial'. This would mean future data that would have a different attribute would need to be subject to smoothing.\n",
    "\n",
    "\n",
    "It appears that Odor has the best correlation."
   ]
  },
  {
   "cell_type": "code",
   "execution_count": 22,
   "metadata": {},
   "outputs": [
    {
     "data": {
      "image/png": "[encoded data removed]",
      "text/plain": [
       "<Figure size 432x288 with 1 Axes>"
      ]
     },
     "metadata": {
      "needs_background": "light"
     },
     "output_type": "display_data"
    }
   ],
   "source": [
    "import matplotlib.pyplot as plt\n",
    "\n",
    "keys = list(correlation_consumption.index)\n",
    "values = list(correlation_consumption.values)\n",
    "adjustedVals = []\n",
    "\n",
    "for v in values:\n",
    "        adjustedVals.append(v[0])\n",
    "\n",
    "adjustedVals.pop()        \n",
    "keys.pop()\n",
    "\n",
    "fig, axs = plt.subplots()\n",
    "axs.bar(keys, adjustedVals)\n",
    "plt.xticks(rotation=85)\n",
    "fig.suptitle('Consumption\\'s Correlation with Attributes')\n",
    "plt.show()"
   ]
  },
  {
   "cell_type": "markdown",
   "metadata": {},
   "source": [
    "From before, we took notice of the presence of the '?' (unknown attributes).\n",
    "\n",
    "Let's check the preportion of these in the data."
   ]
  },
  {
   "cell_type": "code",
   "execution_count": 23,
   "metadata": {},
   "outputs": [
    {
     "data": {
      "image/png": "[encoded data removed]",
      "text/plain": [
       "<Figure size 432x288 with 1 Axes>"
      ]
     },
     "metadata": {
      "needs_background": "light"
     },
     "output_type": "display_data"
    }
   ],
   "source": [
    "stalk_root_data = dict(mushroom_full[\"stalk-root\"].value_counts())\n",
    "keys = list(stalk_root_data.keys())\n",
    "values = list(stalk_root_data.values())\n",
    "fig, axs = plt.subplots()\n",
    "axs.bar(keys, values)\n",
    "fig.suptitle('Visualizing the Stalk-Root Atrribute\\'s Values')\n",
    "plt.show()"
   ]
  },
  {
   "cell_type": "markdown",
   "metadata": {},
   "source": [
    "# Setting Aside a Test Set"
   ]
  },
  {
   "cell_type": "markdown",
   "metadata": {},
   "source": [
    "Partition the data into a train and a test set."
   ]
  },
  {
   "cell_type": "code",
   "execution_count": 24,
   "metadata": {},
   "outputs": [
    {
     "name": "stdout",
     "output_type": "stream",
     "text": [
      "8416 6732 1684\n"
     ]
    }
   ],
   "source": [
    "from sklearn.model_selection import train_test_split\n",
    "\n",
    "train_set, test_set = train_test_split(mushroom_full, test_size=0.2, random_state=42)\n",
    "print(len(mushroom_full),len(train_set),len(test_set))"
   ]
  },
  {
   "cell_type": "markdown",
   "metadata": {},
   "source": [
    "# Data Preparation"
   ]
  },
  {
   "cell_type": "markdown",
   "metadata": {},
   "source": [
    "Let's address the issue from the previous graph, dealing with the missing stalk-root data."
   ]
  },
  {
   "cell_type": "code",
   "execution_count": 25,
   "metadata": {},
   "outputs": [
    {
     "data": {
      "text/plain": [
       "BULBOUS    3800\n",
       "?          2480\n",
       "EQUAL      1376\n",
       "CLUB        568\n",
       "ROOTED      192\n",
       "Name: stalk-root, dtype: int64"
      ]
     },
     "execution_count": 25,
     "metadata": {},
     "output_type": "execute_result"
    }
   ],
   "source": [
    "mushroom_full[\"stalk-root\"].value_counts()"
   ]
  },
  {
   "cell_type": "markdown",
   "metadata": {},
   "source": [
    "This is a large amount of the data (2480), so let's remove the 'stalk-root' attribute entirely and see how the models perform without it."
   ]
  },
  {
   "cell_type": "code",
   "execution_count": 26,
   "metadata": {},
   "outputs": [],
   "source": [
    "mushroom_train = train_set.drop(\"consumption\", axis=1)\n",
    "mushroom_train = train_set.drop(\"stalk-root\", axis=1)  # Has missing data, lets try to ignore this attribute.\n",
    "mushroom_train_labels = train_set[\"consumption\"].copy()"
   ]
  },
  {
   "cell_type": "markdown",
   "metadata": {},
   "source": [
    "Use an ordinal encoder to encode this categorical data"
   ]
  },
  {
   "cell_type": "code",
   "execution_count": 27,
   "metadata": {},
   "outputs": [],
   "source": [
    "from sklearn.preprocessing import OrdinalEncoder\n",
    "\n",
    "encoder = OrdinalEncoder()\n",
    "mushroom_train_data_encoded = encoder.fit_transform(mushroom_train)"
   ]
  },
  {
   "cell_type": "markdown",
   "metadata": {},
   "source": [
    "# Training the Models"
   ]
  },
  {
   "cell_type": "markdown",
   "metadata": {},
   "source": [
    "Create the Naive Bayes and fit it\n",
    "\n",
    "Note: smoothing is used by default"
   ]
  },
  {
   "cell_type": "code",
   "execution_count": 28,
   "metadata": {},
   "outputs": [
    {
     "data": {
      "text/plain": [
       "0.9985145573380867"
      ]
     },
     "execution_count": 28,
     "metadata": {},
     "output_type": "execute_result"
    }
   ],
   "source": [
    "from sklearn.naive_bayes import CategoricalNB\n",
    "\n",
    "nb = CategoricalNB()\n",
    "nb.fit(mushroom_train_data_encoded, mushroom_train_labels)\n",
    "nb.score(mushroom_train_data_encoded, mushroom_train_labels)"
   ]
  },
  {
   "cell_type": "markdown",
   "metadata": {},
   "source": [
    "It looks like it runs on the training data with 99.8% accuracy.\n",
    "\n",
    "Let's cross validate to see how that looks."
   ]
  },
  {
   "cell_type": "code",
   "execution_count": 29,
   "metadata": {},
   "outputs": [
    {
     "name": "stdout",
     "output_type": "stream",
     "text": [
      "Scores: [0.99703264 0.99851632 0.99851412 0.99851412 0.99554235 1.\n",
      " 0.99851412 1.         0.99851412 0.99851412]\n",
      "Mean: 0.9983661888616012\n",
      "Standard deviation: 0.001233817578590709\n"
     ]
    }
   ],
   "source": [
    "from sklearn.model_selection import cross_val_score\n",
    "\n",
    "def display_scores(scores):\n",
    "    print(\"Scores:\", scores)\n",
    "    print(\"Mean:\", scores.mean())\n",
    "    print(\"Standard deviation:\", scores.std())\n",
    "\n",
    "nb_scores = cross_val_score(nb, mushroom_train_data_encoded, mushroom_train_labels, scoring=\"accuracy\", cv=10)\n",
    "display_scores(nb_scores)"
   ]
  },
  {
   "cell_type": "markdown",
   "metadata": {},
   "source": [
    "As we can see, Naive Bayes does very well. The median score is 99.8% accuracy with a very tight distrubution of the scores."
   ]
  },
  {
   "cell_type": "markdown",
   "metadata": {},
   "source": [
    "Let's see how the decision tree classifier performs. Instantiate and fit it."
   ]
  },
  {
   "cell_type": "code",
   "execution_count": 30,
   "metadata": {},
   "outputs": [
    {
     "data": {
      "text/plain": [
       "1.0"
      ]
     },
     "execution_count": 30,
     "metadata": {},
     "output_type": "execute_result"
    }
   ],
   "source": [
    "from sklearn.tree import DecisionTreeClassifier\n",
    "\n",
    "dtc = DecisionTreeClassifier(criterion=\"gini\", splitter=\"best\", max_depth=None, min_samples_split=2, min_samples_leaf=1,\n",
    "                             min_weight_fraction_leaf=0.0, max_features=None, random_state=None, max_leaf_nodes=None,\n",
    "                             min_impurity_decrease=0.0, class_weight=None, ccp_alpha=0.0)\n",
    "dtc.fit(mushroom_train_data_encoded, mushroom_train_labels)\n",
    "dtc.score(mushroom_train_data_encoded, mushroom_train_labels)"
   ]
  },
  {
   "cell_type": "markdown",
   "metadata": {},
   "source": [
    "Interestingly, the values are predicted with perfect accuracy. We may have overfit the data, let's cross validate."
   ]
  },
  {
   "cell_type": "code",
   "execution_count": 31,
   "metadata": {},
   "outputs": [
    {
     "name": "stdout",
     "output_type": "stream",
     "text": [
      "Scores: [1. 1. 1. 1. 1. 1. 1. 1. 1. 1.]\n",
      "Mean: 1.0\n",
      "Standard deviation: 0.0\n"
     ]
    }
   ],
   "source": [
    "dtc_scores = cross_val_score(dtc, mushroom_train_data_encoded, mushroom_train_labels, scoring=\"accuracy\", cv=10)\n",
    "display_scores(dtc_scores)"
   ]
  },
  {
   "cell_type": "markdown",
   "metadata": {},
   "source": [
    "All cross validation only further proves the accuracy of the decision tree for this problem.\n",
    "\n",
    "<b>I will choose to do the decision tree model on the test set.</b>"
   ]
  },
  {
   "cell_type": "markdown",
   "metadata": {},
   "source": [
    "Although it is not necessary considering the accuracy, let's see how changing the number of the max features of the DecisionTree affects the performance:\n"
   ]
  },
  {
   "cell_type": "code",
   "execution_count": 32,
   "metadata": {},
   "outputs": [
    {
     "data": {
      "text/plain": [
       "GridSearchCV(cv=10, estimator=DecisionTreeClassifier(random_state=42),\n",
       "             param_grid=[{'max_features': [2, 3, 4, 5]}],\n",
       "             return_train_score=True, scoring='accuracy')"
      ]
     },
     "execution_count": 32,
     "metadata": {},
     "output_type": "execute_result"
    }
   ],
   "source": [
    "from sklearn.model_selection import GridSearchCV\n",
    "\n",
    "param_grid = [\n",
    "    {'max_features': [2, 3, 4, 5]},\n",
    "  ]\n",
    "\n",
    "dtc2 = DecisionTreeClassifier(random_state=42)\n",
    "\n",
    "grid_search = GridSearchCV(dtc2, param_grid, cv=10,scoring='accuracy', return_train_score=True)\n",
    "grid_search.fit(mushroom_train_data_encoded, mushroom_train_labels)"
   ]
  },
  {
   "cell_type": "code",
   "execution_count": 33,
   "metadata": {},
   "outputs": [
    {
     "data": {
      "text/plain": [
       "{'max_features': 3}"
      ]
     },
     "execution_count": 33,
     "metadata": {},
     "output_type": "execute_result"
    }
   ],
   "source": [
    "grid_search.best_params_"
   ]
  },
  {
   "cell_type": "code",
   "execution_count": 34,
   "metadata": {},
   "outputs": [
    {
     "data": {
      "text/plain": [
       "DecisionTreeClassifier(max_features=3, random_state=42)"
      ]
     },
     "execution_count": 34,
     "metadata": {},
     "output_type": "execute_result"
    }
   ],
   "source": [
    "grid_search.best_estimator_"
   ]
  },
  {
   "cell_type": "markdown",
   "metadata": {},
   "source": [
    "This means that in order to successfully classify our test data, only three of the features were required."
   ]
  },
  {
   "cell_type": "code",
   "execution_count": 35,
   "metadata": {},
   "outputs": [
    {
     "name": "stdout",
     "output_type": "stream",
     "text": [
      "0.999702823179792 {'max_features': 2}\n",
      "1.0 {'max_features': 3}\n",
      "1.0 {'max_features': 4}\n",
      "1.0 {'max_features': 5}\n"
     ]
    }
   ],
   "source": [
    "cvres = grid_search.cv_results_\n",
    "for mean_score, params in zip(cvres[\"mean_test_score\"], cvres[\"params\"]):\n",
    "    print(mean_score, params)"
   ]
  },
  {
   "cell_type": "markdown",
   "metadata": {},
   "source": [
    "# Test Set"
   ]
  },
  {
   "cell_type": "markdown",
   "metadata": {},
   "source": [
    "First, get the test set ready in the same way the training set was."
   ]
  },
  {
   "cell_type": "code",
   "execution_count": 36,
   "metadata": {},
   "outputs": [],
   "source": [
    "mushroom_test = test_set.drop(\"consumption\", axis=1)\n",
    "mushroom_test = test_set.drop(\"stalk-root\", axis=1)  # Has missing data, lets try to ignore this attribute.\n",
    "mushroom_test_labels = test_set[\"consumption\"].copy()\n",
    "mushroom_test_data_encoded = encoder.fit_transform(mushroom_test)"
   ]
  },
  {
   "cell_type": "markdown",
   "metadata": {},
   "source": [
    "Next, score the test set using the decision tree that was created on the test data."
   ]
  },
  {
   "cell_type": "code",
   "execution_count": 37,
   "metadata": {},
   "outputs": [
    {
     "name": "stdout",
     "output_type": "stream",
     "text": [
      "0.9970308788598575\n"
     ]
    }
   ],
   "source": [
    "from sklearn.metrics import accuracy_score\n",
    "\n",
    "final_model = grid_search.best_estimator_\n",
    "\n",
    "test_prediction = final_model.predict(mushroom_test_data_encoded)\n",
    "accuracy = accuracy_score(test_prediction, mushroom_test_labels)\n",
    "print(accuracy)"
   ]
  },
  {
   "cell_type": "markdown",
   "metadata": {},
   "source": [
    "It appears that the decision tree was able to correctly identify all of the poisionous versus edible mushrooms in the test set with very high accuracy. However, what if we had not limited the number of features used to 3 features?"
   ]
  },
  {
   "cell_type": "code",
   "execution_count": 38,
   "metadata": {},
   "outputs": [
    {
     "name": "stdout",
     "output_type": "stream",
     "text": [
      "1.0\n"
     ]
    }
   ],
   "source": [
    "test_prediction = dtc.predict(mushroom_test_data_encoded)\n",
    "accuracy = accuracy_score(test_prediction, mushroom_test_labels)\n",
    "print(accuracy)"
   ]
  },
  {
   "cell_type": "markdown",
   "metadata": {},
   "source": [
    "Using all 22 features from the original training set allowed for perfect prediction of the test set."
   ]
  },
  {
   "cell_type": "markdown",
   "metadata": {},
   "source": [
    "# Conclusion"
   ]
  },
  {
   "cell_type": "markdown",
   "metadata": {},
   "source": [
    "To my surprise, all the various models and parameters seem to do a terrific job at predicting poisonous versus non-poisonous mushrooms. Whether or not I would trust this in real life is a different story.\n",
    "\n",
    "An interesting study would be to start with a small test size and ramp it up, determining the minimum amount of test data that is required to make the model achieve the accuracy we are seeing here (I used a static 80-20 here)."
   ]
  }
 ],
 "metadata": {
  "kernelspec": {
   "display_name": "Python 3",
   "language": "python",
   "name": "python3"
  },
  "language_info": {
   "codemirror_mode": {
    "name": "ipython",
    "version": 3
   },
   "file_extension": ".py",
   "mimetype": "text/x-python",
   "name": "python",
   "nbconvert_exporter": "python",
   "pygments_lexer": "ipython3",
   "version": "3.8.5"
  }
 },
 "nbformat": 4,
 "nbformat_minor": 4
}
